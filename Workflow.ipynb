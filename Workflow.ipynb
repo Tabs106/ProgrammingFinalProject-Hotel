{
 "cells": [
  {
   "cell_type": "code",
   "execution_count": 1,
   "id": "bdd25ad6-ccd1-4080-985e-ad713b4f5419",
   "metadata": {},
   "outputs": [],
   "source": [
    "import pandas as pd\n",
    "import matplotlib.pyplot as plt\n",
    "import seaborn as sns\n",
    "from analysis import analyse_country,analyse_families\n"
   ]
  },
  {
   "cell_type": "code",
   "execution_count": 2,
   "id": "e8667fb2-66f2-4712-95c3-b5dd34e4487e",
   "metadata": {},
   "outputs": [],
   "source": [
    "if __name__ == '__main__':\n",
    "    hotel_data = pd.read_csv(r'hotel_bookings.csv', encoding='utf-8')\n",
    "    analyse_country(hotel_data)\n",
    "    analyse_families(hotel_data)"
   ]
  },
  {
   "cell_type": "code",
   "execution_count": null,
   "id": "52c26a86-c182-4f17-83e0-da4da3acbb37",
   "metadata": {},
   "outputs": [],
   "source": []
  }
 ],
 "metadata": {
  "kernelspec": {
   "display_name": "Python 3 (ipykernel)",
   "language": "python",
   "name": "python3"
  },
  "language_info": {
   "codemirror_mode": {
    "name": "ipython",
    "version": 3
   },
   "file_extension": ".py",
   "mimetype": "text/x-python",
   "name": "python",
   "nbconvert_exporter": "python",
   "pygments_lexer": "ipython3",
   "version": "3.9.12"
  }
 },
 "nbformat": 4,
 "nbformat_minor": 5
}
